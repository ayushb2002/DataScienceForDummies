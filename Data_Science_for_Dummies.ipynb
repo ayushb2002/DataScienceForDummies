{
  "nbformat": 4,
  "nbformat_minor": 0,
  "metadata": {
    "colab": {
      "provenance": []
    },
    "kernelspec": {
      "name": "python3",
      "display_name": "Python 3"
    },
    "language_info": {
      "name": "python"
    }
  },
  "cells": [
    {
      "cell_type": "markdown",
      "source": [
        "# Data Science for Dummies\n",
        "\n",
        "### Topics to be covered today !\n",
        "* Numpy\n",
        "* Pandas\n",
        "* Matplotlib\n",
        "* Scikit - Learn\n"
      ],
      "metadata": {
        "id": "cQCxeIDwIVdp"
      }
    },
    {
      "cell_type": "markdown",
      "source": [
        "## Where to code ?\n",
        "\n",
        "* Google colaboratory \n",
        "* Jupyter notebook\n",
        "* Python files (.py extension)"
      ],
      "metadata": {
        "id": "DTNY2yudKdOG"
      }
    },
    {
      "cell_type": "code",
      "source": [
        "# Importing libraries!\n",
        "\n",
        "import numpy as np\n",
        "import pandas as pd\n",
        "import matplotlib.pyplot as plt\n",
        "\n",
        "%matplotlib inline"
      ],
      "metadata": {
        "id": "QOIIpII8JeR4"
      },
      "execution_count": null,
      "outputs": []
    },
    {
      "cell_type": "markdown",
      "source": [
        "`%matplotlib inline` is a magic function for printing plotted graphs on notebooks"
      ],
      "metadata": {
        "id": "Fbz2YDMjKMdP"
      }
    },
    {
      "cell_type": "markdown",
      "source": [
        "# Numpy Cheat Sheet - \n",
        "\n",
        "https://assets.datacamp.com/blog_assets/Numpy_Python_Cheat_Sheet.pdf"
      ],
      "metadata": {
        "id": "IoQ705lsL48X"
      }
    },
    {
      "cell_type": "markdown",
      "source": [
        "# Pandas Cheat Sheet\n",
        "\n",
        "https://pandas.pydata.org/Pandas_Cheat_Sheet.pdf"
      ],
      "metadata": {
        "id": "zQZz8QZ063cV"
      }
    },
    {
      "cell_type": "markdown",
      "source": [
        "# Matplotlib Cheat Sheet\n",
        "\n",
        "https://matplotlib.org/cheatsheets/handout-beginner.pdf"
      ],
      "metadata": {
        "id": "zae83lU96_Wi"
      }
    },
    {
      "cell_type": "markdown",
      "source": [
        "### Taking dataset from scikit lean datasets package!"
      ],
      "metadata": {
        "id": "Su9HZtQ0KFhg"
      }
    },
    {
      "cell_type": "code",
      "source": [
        "from sklearn.datasets import load_diabetes\n",
        "\n",
        "diabetes = load_diabetes()\n",
        "X = diabetes.data\n",
        "y = diabetes.target\n",
        "\n",
        "X.shape, y.shape"
      ],
      "metadata": {
        "colab": {
          "base_uri": "https://localhost:8080/"
        },
        "id": "YNZX29UrJoLg",
        "outputId": "4e527e5b-1a5f-4fb6-cb94-66fc4eb7edb8"
      },
      "execution_count": null,
      "outputs": [
        {
          "output_type": "execute_result",
          "data": {
            "text/plain": [
              "((442, 10), (442,))"
            ]
          },
          "metadata": {},
          "execution_count": 2
        }
      ]
    },
    {
      "cell_type": "markdown",
      "source": [
        "https://scikit-learn.org/stable/datasets/toy_dataset.html#diabetes-dataset"
      ],
      "metadata": {
        "id": "LkmNHAwnUkKX"
      }
    },
    {
      "cell_type": "code",
      "source": [
        "diabetes.keys()"
      ],
      "metadata": {
        "id": "LJEiMicVJ_9Y",
        "colab": {
          "base_uri": "https://localhost:8080/"
        },
        "outputId": "f8bd8162-e47a-41af-998a-6a3644c8d6c4"
      },
      "execution_count": null,
      "outputs": [
        {
          "output_type": "execute_result",
          "data": {
            "text/plain": [
              "dict_keys(['data', 'target', 'frame', 'DESCR', 'feature_names', 'data_filename', 'target_filename', 'data_module'])"
            ]
          },
          "metadata": {},
          "execution_count": 3
        }
      ]
    },
    {
      "cell_type": "code",
      "source": [
        "df = pd.DataFrame(X, columns=diabetes.feature_names)\n",
        "df.head()"
      ],
      "metadata": {
        "colab": {
          "base_uri": "https://localhost:8080/",
          "height": 206
        },
        "id": "G5nyBYx-6xig",
        "outputId": "d47fbf2a-abaa-4e9b-87df-af72f8f22bf7"
      },
      "execution_count": null,
      "outputs": [
        {
          "output_type": "execute_result",
          "data": {
            "text/plain": [
              "        age       sex       bmi        bp        s1        s2        s3  \\\n",
              "0  0.038076  0.050680  0.061696  0.021872 -0.044223 -0.034821 -0.043401   \n",
              "1 -0.001882 -0.044642 -0.051474 -0.026328 -0.008449 -0.019163  0.074412   \n",
              "2  0.085299  0.050680  0.044451 -0.005671 -0.045599 -0.034194 -0.032356   \n",
              "3 -0.089063 -0.044642 -0.011595 -0.036656  0.012191  0.024991 -0.036038   \n",
              "4  0.005383 -0.044642 -0.036385  0.021872  0.003935  0.015596  0.008142   \n",
              "\n",
              "         s4        s5        s6  \n",
              "0 -0.002592  0.019908 -0.017646  \n",
              "1 -0.039493 -0.068330 -0.092204  \n",
              "2 -0.002592  0.002864 -0.025930  \n",
              "3  0.034309  0.022692 -0.009362  \n",
              "4 -0.002592 -0.031991 -0.046641  "
            ],
            "text/html": [
              "\n",
              "  <div id=\"df-1c29ac1a-9316-4549-bb9f-dc165990c0da\">\n",
              "    <div class=\"colab-df-container\">\n",
              "      <div>\n",
              "<style scoped>\n",
              "    .dataframe tbody tr th:only-of-type {\n",
              "        vertical-align: middle;\n",
              "    }\n",
              "\n",
              "    .dataframe tbody tr th {\n",
              "        vertical-align: top;\n",
              "    }\n",
              "\n",
              "    .dataframe thead th {\n",
              "        text-align: right;\n",
              "    }\n",
              "</style>\n",
              "<table border=\"1\" class=\"dataframe\">\n",
              "  <thead>\n",
              "    <tr style=\"text-align: right;\">\n",
              "      <th></th>\n",
              "      <th>age</th>\n",
              "      <th>sex</th>\n",
              "      <th>bmi</th>\n",
              "      <th>bp</th>\n",
              "      <th>s1</th>\n",
              "      <th>s2</th>\n",
              "      <th>s3</th>\n",
              "      <th>s4</th>\n",
              "      <th>s5</th>\n",
              "      <th>s6</th>\n",
              "    </tr>\n",
              "  </thead>\n",
              "  <tbody>\n",
              "    <tr>\n",
              "      <th>0</th>\n",
              "      <td>0.038076</td>\n",
              "      <td>0.050680</td>\n",
              "      <td>0.061696</td>\n",
              "      <td>0.021872</td>\n",
              "      <td>-0.044223</td>\n",
              "      <td>-0.034821</td>\n",
              "      <td>-0.043401</td>\n",
              "      <td>-0.002592</td>\n",
              "      <td>0.019908</td>\n",
              "      <td>-0.017646</td>\n",
              "    </tr>\n",
              "    <tr>\n",
              "      <th>1</th>\n",
              "      <td>-0.001882</td>\n",
              "      <td>-0.044642</td>\n",
              "      <td>-0.051474</td>\n",
              "      <td>-0.026328</td>\n",
              "      <td>-0.008449</td>\n",
              "      <td>-0.019163</td>\n",
              "      <td>0.074412</td>\n",
              "      <td>-0.039493</td>\n",
              "      <td>-0.068330</td>\n",
              "      <td>-0.092204</td>\n",
              "    </tr>\n",
              "    <tr>\n",
              "      <th>2</th>\n",
              "      <td>0.085299</td>\n",
              "      <td>0.050680</td>\n",
              "      <td>0.044451</td>\n",
              "      <td>-0.005671</td>\n",
              "      <td>-0.045599</td>\n",
              "      <td>-0.034194</td>\n",
              "      <td>-0.032356</td>\n",
              "      <td>-0.002592</td>\n",
              "      <td>0.002864</td>\n",
              "      <td>-0.025930</td>\n",
              "    </tr>\n",
              "    <tr>\n",
              "      <th>3</th>\n",
              "      <td>-0.089063</td>\n",
              "      <td>-0.044642</td>\n",
              "      <td>-0.011595</td>\n",
              "      <td>-0.036656</td>\n",
              "      <td>0.012191</td>\n",
              "      <td>0.024991</td>\n",
              "      <td>-0.036038</td>\n",
              "      <td>0.034309</td>\n",
              "      <td>0.022692</td>\n",
              "      <td>-0.009362</td>\n",
              "    </tr>\n",
              "    <tr>\n",
              "      <th>4</th>\n",
              "      <td>0.005383</td>\n",
              "      <td>-0.044642</td>\n",
              "      <td>-0.036385</td>\n",
              "      <td>0.021872</td>\n",
              "      <td>0.003935</td>\n",
              "      <td>0.015596</td>\n",
              "      <td>0.008142</td>\n",
              "      <td>-0.002592</td>\n",
              "      <td>-0.031991</td>\n",
              "      <td>-0.046641</td>\n",
              "    </tr>\n",
              "  </tbody>\n",
              "</table>\n",
              "</div>\n",
              "      <button class=\"colab-df-convert\" onclick=\"convertToInteractive('df-1c29ac1a-9316-4549-bb9f-dc165990c0da')\"\n",
              "              title=\"Convert this dataframe to an interactive table.\"\n",
              "              style=\"display:none;\">\n",
              "        \n",
              "  <svg xmlns=\"http://www.w3.org/2000/svg\" height=\"24px\"viewBox=\"0 0 24 24\"\n",
              "       width=\"24px\">\n",
              "    <path d=\"M0 0h24v24H0V0z\" fill=\"none\"/>\n",
              "    <path d=\"M18.56 5.44l.94 2.06.94-2.06 2.06-.94-2.06-.94-.94-2.06-.94 2.06-2.06.94zm-11 1L8.5 8.5l.94-2.06 2.06-.94-2.06-.94L8.5 2.5l-.94 2.06-2.06.94zm10 10l.94 2.06.94-2.06 2.06-.94-2.06-.94-.94-2.06-.94 2.06-2.06.94z\"/><path d=\"M17.41 7.96l-1.37-1.37c-.4-.4-.92-.59-1.43-.59-.52 0-1.04.2-1.43.59L10.3 9.45l-7.72 7.72c-.78.78-.78 2.05 0 2.83L4 21.41c.39.39.9.59 1.41.59.51 0 1.02-.2 1.41-.59l7.78-7.78 2.81-2.81c.8-.78.8-2.07 0-2.86zM5.41 20L4 18.59l7.72-7.72 1.47 1.35L5.41 20z\"/>\n",
              "  </svg>\n",
              "      </button>\n",
              "      \n",
              "  <style>\n",
              "    .colab-df-container {\n",
              "      display:flex;\n",
              "      flex-wrap:wrap;\n",
              "      gap: 12px;\n",
              "    }\n",
              "\n",
              "    .colab-df-convert {\n",
              "      background-color: #E8F0FE;\n",
              "      border: none;\n",
              "      border-radius: 50%;\n",
              "      cursor: pointer;\n",
              "      display: none;\n",
              "      fill: #1967D2;\n",
              "      height: 32px;\n",
              "      padding: 0 0 0 0;\n",
              "      width: 32px;\n",
              "    }\n",
              "\n",
              "    .colab-df-convert:hover {\n",
              "      background-color: #E2EBFA;\n",
              "      box-shadow: 0px 1px 2px rgba(60, 64, 67, 0.3), 0px 1px 3px 1px rgba(60, 64, 67, 0.15);\n",
              "      fill: #174EA6;\n",
              "    }\n",
              "\n",
              "    [theme=dark] .colab-df-convert {\n",
              "      background-color: #3B4455;\n",
              "      fill: #D2E3FC;\n",
              "    }\n",
              "\n",
              "    [theme=dark] .colab-df-convert:hover {\n",
              "      background-color: #434B5C;\n",
              "      box-shadow: 0px 1px 3px 1px rgba(0, 0, 0, 0.15);\n",
              "      filter: drop-shadow(0px 1px 2px rgba(0, 0, 0, 0.3));\n",
              "      fill: #FFFFFF;\n",
              "    }\n",
              "  </style>\n",
              "\n",
              "      <script>\n",
              "        const buttonEl =\n",
              "          document.querySelector('#df-1c29ac1a-9316-4549-bb9f-dc165990c0da button.colab-df-convert');\n",
              "        buttonEl.style.display =\n",
              "          google.colab.kernel.accessAllowed ? 'block' : 'none';\n",
              "\n",
              "        async function convertToInteractive(key) {\n",
              "          const element = document.querySelector('#df-1c29ac1a-9316-4549-bb9f-dc165990c0da');\n",
              "          const dataTable =\n",
              "            await google.colab.kernel.invokeFunction('convertToInteractive',\n",
              "                                                     [key], {});\n",
              "          if (!dataTable) return;\n",
              "\n",
              "          const docLinkHtml = 'Like what you see? Visit the ' +\n",
              "            '<a target=\"_blank\" href=https://colab.research.google.com/notebooks/data_table.ipynb>data table notebook</a>'\n",
              "            + ' to learn more about interactive tables.';\n",
              "          element.innerHTML = '';\n",
              "          dataTable['output_type'] = 'display_data';\n",
              "          await google.colab.output.renderOutput(dataTable, element);\n",
              "          const docLink = document.createElement('div');\n",
              "          docLink.innerHTML = docLinkHtml;\n",
              "          element.appendChild(docLink);\n",
              "        }\n",
              "      </script>\n",
              "    </div>\n",
              "  </div>\n",
              "  "
            ]
          },
          "metadata": {},
          "execution_count": 4
        }
      ]
    },
    {
      "cell_type": "code",
      "source": [
        "df.info()"
      ],
      "metadata": {
        "colab": {
          "base_uri": "https://localhost:8080/"
        },
        "id": "BFOX7OtpSin4",
        "outputId": "71c1e495-fb26-45c4-aa93-24b145f565f4"
      },
      "execution_count": null,
      "outputs": [
        {
          "output_type": "stream",
          "name": "stdout",
          "text": [
            "<class 'pandas.core.frame.DataFrame'>\n",
            "RangeIndex: 442 entries, 0 to 441\n",
            "Data columns (total 10 columns):\n",
            " #   Column  Non-Null Count  Dtype  \n",
            "---  ------  --------------  -----  \n",
            " 0   age     442 non-null    float64\n",
            " 1   sex     442 non-null    float64\n",
            " 2   bmi     442 non-null    float64\n",
            " 3   bp      442 non-null    float64\n",
            " 4   s1      442 non-null    float64\n",
            " 5   s2      442 non-null    float64\n",
            " 6   s3      442 non-null    float64\n",
            " 7   s4      442 non-null    float64\n",
            " 8   s5      442 non-null    float64\n",
            " 9   s6      442 non-null    float64\n",
            "dtypes: float64(10)\n",
            "memory usage: 34.7 KB\n"
          ]
        }
      ]
    },
    {
      "cell_type": "code",
      "source": [
        "df.isna().sum()"
      ],
      "metadata": {
        "colab": {
          "base_uri": "https://localhost:8080/"
        },
        "id": "5JXlBKenU4r6",
        "outputId": "502c9610-372b-4daa-89c6-99a9b031b9d1"
      },
      "execution_count": null,
      "outputs": [
        {
          "output_type": "execute_result",
          "data": {
            "text/plain": [
              "age    0\n",
              "sex    0\n",
              "bmi    0\n",
              "bp     0\n",
              "s1     0\n",
              "s2     0\n",
              "s3     0\n",
              "s4     0\n",
              "s5     0\n",
              "s6     0\n",
              "dtype: int64"
            ]
          },
          "metadata": {},
          "execution_count": 6
        }
      ]
    },
    {
      "cell_type": "code",
      "source": [
        "df['target'] = y\n",
        "df.describe()"
      ],
      "metadata": {
        "colab": {
          "base_uri": "https://localhost:8080/",
          "height": 300
        },
        "id": "iUVm23__4Zt0",
        "outputId": "012ed1e1-764d-47a1-f42e-ed7aab30431a"
      },
      "execution_count": null,
      "outputs": [
        {
          "output_type": "execute_result",
          "data": {
            "text/plain": [
              "                age           sex           bmi            bp            s1  \\\n",
              "count  4.420000e+02  4.420000e+02  4.420000e+02  4.420000e+02  4.420000e+02   \n",
              "mean  -3.639623e-16  1.309912e-16 -8.013951e-16  1.289818e-16 -9.042540e-17   \n",
              "std    4.761905e-02  4.761905e-02  4.761905e-02  4.761905e-02  4.761905e-02   \n",
              "min   -1.072256e-01 -4.464164e-02 -9.027530e-02 -1.123996e-01 -1.267807e-01   \n",
              "25%   -3.729927e-02 -4.464164e-02 -3.422907e-02 -3.665645e-02 -3.424784e-02   \n",
              "50%    5.383060e-03 -4.464164e-02 -7.283766e-03 -5.670611e-03 -4.320866e-03   \n",
              "75%    3.807591e-02  5.068012e-02  3.124802e-02  3.564384e-02  2.835801e-02   \n",
              "max    1.107267e-01  5.068012e-02  1.705552e-01  1.320442e-01  1.539137e-01   \n",
              "\n",
              "                 s2            s3            s4            s5            s6  \\\n",
              "count  4.420000e+02  4.420000e+02  4.420000e+02  4.420000e+02  4.420000e+02   \n",
              "mean   1.301121e-16 -4.563971e-16  3.863174e-16 -3.848103e-16 -3.398488e-16   \n",
              "std    4.761905e-02  4.761905e-02  4.761905e-02  4.761905e-02  4.761905e-02   \n",
              "min   -1.156131e-01 -1.023071e-01 -7.639450e-02 -1.260974e-01 -1.377672e-01   \n",
              "25%   -3.035840e-02 -3.511716e-02 -3.949338e-02 -3.324879e-02 -3.317903e-02   \n",
              "50%   -3.819065e-03 -6.584468e-03 -2.592262e-03 -1.947634e-03 -1.077698e-03   \n",
              "75%    2.984439e-02  2.931150e-02  3.430886e-02  3.243323e-02  2.791705e-02   \n",
              "max    1.987880e-01  1.811791e-01  1.852344e-01  1.335990e-01  1.356118e-01   \n",
              "\n",
              "           target  \n",
              "count  442.000000  \n",
              "mean   152.133484  \n",
              "std     77.093005  \n",
              "min     25.000000  \n",
              "25%     87.000000  \n",
              "50%    140.500000  \n",
              "75%    211.500000  \n",
              "max    346.000000  "
            ],
            "text/html": [
              "\n",
              "  <div id=\"df-5f391b14-4f8d-4a74-924b-1c1c39d453f4\">\n",
              "    <div class=\"colab-df-container\">\n",
              "      <div>\n",
              "<style scoped>\n",
              "    .dataframe tbody tr th:only-of-type {\n",
              "        vertical-align: middle;\n",
              "    }\n",
              "\n",
              "    .dataframe tbody tr th {\n",
              "        vertical-align: top;\n",
              "    }\n",
              "\n",
              "    .dataframe thead th {\n",
              "        text-align: right;\n",
              "    }\n",
              "</style>\n",
              "<table border=\"1\" class=\"dataframe\">\n",
              "  <thead>\n",
              "    <tr style=\"text-align: right;\">\n",
              "      <th></th>\n",
              "      <th>age</th>\n",
              "      <th>sex</th>\n",
              "      <th>bmi</th>\n",
              "      <th>bp</th>\n",
              "      <th>s1</th>\n",
              "      <th>s2</th>\n",
              "      <th>s3</th>\n",
              "      <th>s4</th>\n",
              "      <th>s5</th>\n",
              "      <th>s6</th>\n",
              "      <th>target</th>\n",
              "    </tr>\n",
              "  </thead>\n",
              "  <tbody>\n",
              "    <tr>\n",
              "      <th>count</th>\n",
              "      <td>4.420000e+02</td>\n",
              "      <td>4.420000e+02</td>\n",
              "      <td>4.420000e+02</td>\n",
              "      <td>4.420000e+02</td>\n",
              "      <td>4.420000e+02</td>\n",
              "      <td>4.420000e+02</td>\n",
              "      <td>4.420000e+02</td>\n",
              "      <td>4.420000e+02</td>\n",
              "      <td>4.420000e+02</td>\n",
              "      <td>4.420000e+02</td>\n",
              "      <td>442.000000</td>\n",
              "    </tr>\n",
              "    <tr>\n",
              "      <th>mean</th>\n",
              "      <td>-3.639623e-16</td>\n",
              "      <td>1.309912e-16</td>\n",
              "      <td>-8.013951e-16</td>\n",
              "      <td>1.289818e-16</td>\n",
              "      <td>-9.042540e-17</td>\n",
              "      <td>1.301121e-16</td>\n",
              "      <td>-4.563971e-16</td>\n",
              "      <td>3.863174e-16</td>\n",
              "      <td>-3.848103e-16</td>\n",
              "      <td>-3.398488e-16</td>\n",
              "      <td>152.133484</td>\n",
              "    </tr>\n",
              "    <tr>\n",
              "      <th>std</th>\n",
              "      <td>4.761905e-02</td>\n",
              "      <td>4.761905e-02</td>\n",
              "      <td>4.761905e-02</td>\n",
              "      <td>4.761905e-02</td>\n",
              "      <td>4.761905e-02</td>\n",
              "      <td>4.761905e-02</td>\n",
              "      <td>4.761905e-02</td>\n",
              "      <td>4.761905e-02</td>\n",
              "      <td>4.761905e-02</td>\n",
              "      <td>4.761905e-02</td>\n",
              "      <td>77.093005</td>\n",
              "    </tr>\n",
              "    <tr>\n",
              "      <th>min</th>\n",
              "      <td>-1.072256e-01</td>\n",
              "      <td>-4.464164e-02</td>\n",
              "      <td>-9.027530e-02</td>\n",
              "      <td>-1.123996e-01</td>\n",
              "      <td>-1.267807e-01</td>\n",
              "      <td>-1.156131e-01</td>\n",
              "      <td>-1.023071e-01</td>\n",
              "      <td>-7.639450e-02</td>\n",
              "      <td>-1.260974e-01</td>\n",
              "      <td>-1.377672e-01</td>\n",
              "      <td>25.000000</td>\n",
              "    </tr>\n",
              "    <tr>\n",
              "      <th>25%</th>\n",
              "      <td>-3.729927e-02</td>\n",
              "      <td>-4.464164e-02</td>\n",
              "      <td>-3.422907e-02</td>\n",
              "      <td>-3.665645e-02</td>\n",
              "      <td>-3.424784e-02</td>\n",
              "      <td>-3.035840e-02</td>\n",
              "      <td>-3.511716e-02</td>\n",
              "      <td>-3.949338e-02</td>\n",
              "      <td>-3.324879e-02</td>\n",
              "      <td>-3.317903e-02</td>\n",
              "      <td>87.000000</td>\n",
              "    </tr>\n",
              "    <tr>\n",
              "      <th>50%</th>\n",
              "      <td>5.383060e-03</td>\n",
              "      <td>-4.464164e-02</td>\n",
              "      <td>-7.283766e-03</td>\n",
              "      <td>-5.670611e-03</td>\n",
              "      <td>-4.320866e-03</td>\n",
              "      <td>-3.819065e-03</td>\n",
              "      <td>-6.584468e-03</td>\n",
              "      <td>-2.592262e-03</td>\n",
              "      <td>-1.947634e-03</td>\n",
              "      <td>-1.077698e-03</td>\n",
              "      <td>140.500000</td>\n",
              "    </tr>\n",
              "    <tr>\n",
              "      <th>75%</th>\n",
              "      <td>3.807591e-02</td>\n",
              "      <td>5.068012e-02</td>\n",
              "      <td>3.124802e-02</td>\n",
              "      <td>3.564384e-02</td>\n",
              "      <td>2.835801e-02</td>\n",
              "      <td>2.984439e-02</td>\n",
              "      <td>2.931150e-02</td>\n",
              "      <td>3.430886e-02</td>\n",
              "      <td>3.243323e-02</td>\n",
              "      <td>2.791705e-02</td>\n",
              "      <td>211.500000</td>\n",
              "    </tr>\n",
              "    <tr>\n",
              "      <th>max</th>\n",
              "      <td>1.107267e-01</td>\n",
              "      <td>5.068012e-02</td>\n",
              "      <td>1.705552e-01</td>\n",
              "      <td>1.320442e-01</td>\n",
              "      <td>1.539137e-01</td>\n",
              "      <td>1.987880e-01</td>\n",
              "      <td>1.811791e-01</td>\n",
              "      <td>1.852344e-01</td>\n",
              "      <td>1.335990e-01</td>\n",
              "      <td>1.356118e-01</td>\n",
              "      <td>346.000000</td>\n",
              "    </tr>\n",
              "  </tbody>\n",
              "</table>\n",
              "</div>\n",
              "      <button class=\"colab-df-convert\" onclick=\"convertToInteractive('df-5f391b14-4f8d-4a74-924b-1c1c39d453f4')\"\n",
              "              title=\"Convert this dataframe to an interactive table.\"\n",
              "              style=\"display:none;\">\n",
              "        \n",
              "  <svg xmlns=\"http://www.w3.org/2000/svg\" height=\"24px\"viewBox=\"0 0 24 24\"\n",
              "       width=\"24px\">\n",
              "    <path d=\"M0 0h24v24H0V0z\" fill=\"none\"/>\n",
              "    <path d=\"M18.56 5.44l.94 2.06.94-2.06 2.06-.94-2.06-.94-.94-2.06-.94 2.06-2.06.94zm-11 1L8.5 8.5l.94-2.06 2.06-.94-2.06-.94L8.5 2.5l-.94 2.06-2.06.94zm10 10l.94 2.06.94-2.06 2.06-.94-2.06-.94-.94-2.06-.94 2.06-2.06.94z\"/><path d=\"M17.41 7.96l-1.37-1.37c-.4-.4-.92-.59-1.43-.59-.52 0-1.04.2-1.43.59L10.3 9.45l-7.72 7.72c-.78.78-.78 2.05 0 2.83L4 21.41c.39.39.9.59 1.41.59.51 0 1.02-.2 1.41-.59l7.78-7.78 2.81-2.81c.8-.78.8-2.07 0-2.86zM5.41 20L4 18.59l7.72-7.72 1.47 1.35L5.41 20z\"/>\n",
              "  </svg>\n",
              "      </button>\n",
              "      \n",
              "  <style>\n",
              "    .colab-df-container {\n",
              "      display:flex;\n",
              "      flex-wrap:wrap;\n",
              "      gap: 12px;\n",
              "    }\n",
              "\n",
              "    .colab-df-convert {\n",
              "      background-color: #E8F0FE;\n",
              "      border: none;\n",
              "      border-radius: 50%;\n",
              "      cursor: pointer;\n",
              "      display: none;\n",
              "      fill: #1967D2;\n",
              "      height: 32px;\n",
              "      padding: 0 0 0 0;\n",
              "      width: 32px;\n",
              "    }\n",
              "\n",
              "    .colab-df-convert:hover {\n",
              "      background-color: #E2EBFA;\n",
              "      box-shadow: 0px 1px 2px rgba(60, 64, 67, 0.3), 0px 1px 3px 1px rgba(60, 64, 67, 0.15);\n",
              "      fill: #174EA6;\n",
              "    }\n",
              "\n",
              "    [theme=dark] .colab-df-convert {\n",
              "      background-color: #3B4455;\n",
              "      fill: #D2E3FC;\n",
              "    }\n",
              "\n",
              "    [theme=dark] .colab-df-convert:hover {\n",
              "      background-color: #434B5C;\n",
              "      box-shadow: 0px 1px 3px 1px rgba(0, 0, 0, 0.15);\n",
              "      filter: drop-shadow(0px 1px 2px rgba(0, 0, 0, 0.3));\n",
              "      fill: #FFFFFF;\n",
              "    }\n",
              "  </style>\n",
              "\n",
              "      <script>\n",
              "        const buttonEl =\n",
              "          document.querySelector('#df-5f391b14-4f8d-4a74-924b-1c1c39d453f4 button.colab-df-convert');\n",
              "        buttonEl.style.display =\n",
              "          google.colab.kernel.accessAllowed ? 'block' : 'none';\n",
              "\n",
              "        async function convertToInteractive(key) {\n",
              "          const element = document.querySelector('#df-5f391b14-4f8d-4a74-924b-1c1c39d453f4');\n",
              "          const dataTable =\n",
              "            await google.colab.kernel.invokeFunction('convertToInteractive',\n",
              "                                                     [key], {});\n",
              "          if (!dataTable) return;\n",
              "\n",
              "          const docLinkHtml = 'Like what you see? Visit the ' +\n",
              "            '<a target=\"_blank\" href=https://colab.research.google.com/notebooks/data_table.ipynb>data table notebook</a>'\n",
              "            + ' to learn more about interactive tables.';\n",
              "          element.innerHTML = '';\n",
              "          dataTable['output_type'] = 'display_data';\n",
              "          await google.colab.output.renderOutput(dataTable, element);\n",
              "          const docLink = document.createElement('div');\n",
              "          docLink.innerHTML = docLinkHtml;\n",
              "          element.appendChild(docLink);\n",
              "        }\n",
              "      </script>\n",
              "    </div>\n",
              "  </div>\n",
              "  "
            ]
          },
          "metadata": {},
          "execution_count": 51
        }
      ]
    },
    {
      "cell_type": "markdown",
      "source": [
        "A histogram is a graph showing frequency distributions. It is a graph showing the number of observations within each given interval."
      ],
      "metadata": {
        "id": "14ynnALKpCup"
      }
    },
    {
      "cell_type": "code",
      "source": [
        "fig, ((ax1, ax2), (ax3, ax4)) = plt.subplots(nrows=2, ncols=2, figsize=(10, 10))\n",
        "ax1.hist(df['age']);\n",
        "ax2.hist(df['sex']);\n",
        "ax3.hist(df['bmi']);\n",
        "ax4.hist(df['bp']);"
      ],
      "metadata": {
        "colab": {
          "base_uri": "https://localhost:8080/",
          "height": 592
        },
        "id": "t3nvXGNcVrfb",
        "outputId": "95ad28a8-a1d5-408d-aa29-bdc3a1e3213b"
      },
      "execution_count": null,
      "outputs": [
        {
          "output_type": "display_data",
          "data": {
            "text/plain": [
              "<Figure size 720x720 with 4 Axes>"
            ],
            "image/png": "[encoded data removed]"
          },
          "metadata": {
            "needs_background": "light"
          }
        }
      ]
    },
    {
      "cell_type": "code",
      "source": [
        "from sklearn.model_selection import train_test_split\n",
        "\n",
        "X_train, X_test, y_train, y_test = train_test_split(X, y, test_size=0.2, random_state=42)\n",
        "\n",
        "X_train.shape, X_test.shape, y_train.shape, y_test.shape"
      ],
      "metadata": {
        "id": "9tP3jCAVXSzV",
        "colab": {
          "base_uri": "https://localhost:8080/"
        },
        "outputId": "a106d3d3-f2a3-4f6b-f2b0-ce2dbba6e616"
      },
      "execution_count": null,
      "outputs": [
        {
          "output_type": "execute_result",
          "data": {
            "text/plain": [
              "((353, 10), (89, 10), (353,), (89,))"
            ]
          },
          "metadata": {},
          "execution_count": 9
        }
      ]
    },
    {
      "cell_type": "markdown",
      "source": [
        "# Choosing the right model for your data!\n",
        "\n",
        "https://scikit-learn.org/stable/tutorial/machine_learning_map/index.html"
      ],
      "metadata": {
        "id": "BYC6b8h7u8iF"
      }
    },
    {
      "cell_type": "code",
      "source": [
        "from sklearn.linear_model import SGDRegressor\n",
        "\n",
        "model = SGDRegressor(loss='squared_error', max_iter=10000, random_state=42)\n",
        "model.fit(X_train, y_train)\n",
        "preds = model.predict(X_test)"
      ],
      "metadata": {
        "id": "6KIrlj4Muw6E"
      },
      "execution_count": null,
      "outputs": []
    },
    {
      "cell_type": "markdown",
      "source": [
        "# Evaluate your model\n",
        "\n",
        "https://scikit-learn.org/stable/modules/model_evaluation.html"
      ],
      "metadata": {
        "id": "XiABrM_rycHz"
      }
    },
    {
      "cell_type": "code",
      "source": [
        "from sklearn.metrics import r2_score\n",
        "\n",
        "r2_score(y_test, preds)"
      ],
      "metadata": {
        "colab": {
          "base_uri": "https://localhost:8080/"
        },
        "id": "j4fMlxbvwUkX",
        "outputId": "68600f56-0946-4063-91ae-0428b8b9a598"
      },
      "execution_count": null,
      "outputs": [
        {
          "output_type": "execute_result",
          "data": {
            "text/plain": [
              "0.45982199442596694"
            ]
          },
          "metadata": {},
          "execution_count": 28
        }
      ]
    },
    {
      "cell_type": "markdown",
      "source": [
        "Thus we can see that the chosen model did not do well on our dataset. Thus we should either tune our model or change the model!"
      ],
      "metadata": {
        "id": "BXX-YgVJy9pJ"
      }
    },
    {
      "cell_type": "code",
      "source": [
        "from sklearn.linear_model import Ridge\n",
        "\n",
        "model = Ridge(alpha=0.5)\n",
        "model.fit(X_train, y_train)\n",
        "preds = model.predict(X_test)\n",
        "r2_score(y_test, preds)"
      ],
      "metadata": {
        "colab": {
          "base_uri": "https://localhost:8080/"
        },
        "id": "Qccidet4x2Qp",
        "outputId": "92924d09-8536-4ca9-d4c2-4584a3eab322"
      },
      "execution_count": null,
      "outputs": [
        {
          "output_type": "execute_result",
          "data": {
            "text/plain": [
              "0.4493977617951673"
            ]
          },
          "metadata": {},
          "execution_count": 31
        }
      ]
    },
    {
      "cell_type": "markdown",
      "source": [
        "https://scikit-learn.org/stable/modules/generated/sklearn.linear_model.Ridge.html#sklearn.linear_model.Ridge"
      ],
      "metadata": {
        "id": "xFcI-kBS0Vv2"
      }
    },
    {
      "cell_type": "code",
      "source": [
        "model = Ridge(alpha=0.5, solver='sag', random_state=42)\n",
        "model.fit(X_train, y_train)\n",
        "preds = model.predict(X_test)\n",
        "r2_score(y_test, preds)"
      ],
      "metadata": {
        "colab": {
          "base_uri": "https://localhost:8080/"
        },
        "id": "uXCPKQ0nzueg",
        "outputId": "d5b46b5e-35fe-45e1-a2d5-545766db3cb1"
      },
      "execution_count": null,
      "outputs": [
        {
          "output_type": "execute_result",
          "data": {
            "text/plain": [
              "0.44940533868801824"
            ]
          },
          "metadata": {},
          "execution_count": 35
        }
      ]
    },
    {
      "cell_type": "markdown",
      "source": [
        "Not a good result again!"
      ],
      "metadata": {
        "id": "XkIZHFRt0yh6"
      }
    },
    {
      "cell_type": "code",
      "source": [
        "from sklearn.svm import SVR\n",
        "\n",
        "model = SVR()\n",
        "model.fit(X_train, y_train)\n",
        "preds = model.predict(X_test)\n",
        "r2_score(y_test, preds)"
      ],
      "metadata": {
        "colab": {
          "base_uri": "https://localhost:8080/"
        },
        "id": "hxvMz9b7zxvn",
        "outputId": "d4d27c65-879e-4d03-e9fc-4e9a4742ae1f"
      },
      "execution_count": null,
      "outputs": [
        {
          "output_type": "execute_result",
          "data": {
            "text/plain": [
              "0.1821145664971341"
            ]
          },
          "metadata": {},
          "execution_count": 36
        }
      ]
    },
    {
      "cell_type": "code",
      "source": [
        "from sklearn.linear_model import LogisticRegression\n",
        "\n",
        "model = LogisticRegression(random_state=42)\n",
        "model.fit(X_train, y_train)\n",
        "preds = model.predict(X_test)\n",
        "r2_score(y_test, preds)"
      ],
      "metadata": {
        "colab": {
          "base_uri": "https://localhost:8080/"
        },
        "id": "loRyakun1Fv7",
        "outputId": "1b609f33-36de-4380-e9e8-18a1c5aa195e"
      },
      "execution_count": null,
      "outputs": [
        {
          "output_type": "execute_result",
          "data": {
            "text/plain": [
              "-0.07431994826369315"
            ]
          },
          "metadata": {},
          "execution_count": 37
        }
      ]
    },
    {
      "cell_type": "code",
      "source": [
        "from sklearn.linear_model import LinearRegression\n",
        "\n",
        "model = LinearRegression()\n",
        "model.fit(X_train, y_train)\n",
        "preds = model.predict(X_test)\n",
        "r2_score(y_test, preds)"
      ],
      "metadata": {
        "colab": {
          "base_uri": "https://localhost:8080/"
        },
        "id": "ohx2XKox1b6T",
        "outputId": "653db2a9-3865-4953-b272-450eea8d28bf"
      },
      "execution_count": null,
      "outputs": [
        {
          "output_type": "execute_result",
          "data": {
            "text/plain": [
              "0.452606602161738"
            ]
          },
          "metadata": {},
          "execution_count": 39
        }
      ]
    },
    {
      "cell_type": "code",
      "source": [
        "from sklearn.ensemble import RandomForestRegressor\n",
        "\n",
        "model = RandomForestRegressor()\n",
        "model.fit(X_train, y_train)\n",
        "preds = model.predict(X_test)\n",
        "r2_score(y_test, preds)"
      ],
      "metadata": {
        "colab": {
          "base_uri": "https://localhost:8080/"
        },
        "id": "ByACAGle1tXP",
        "outputId": "ce409e57-3e76-4073-9a0f-51e4e5a3aaf7"
      },
      "execution_count": null,
      "outputs": [
        {
          "output_type": "execute_result",
          "data": {
            "text/plain": [
              "0.44059810246038156"
            ]
          },
          "metadata": {},
          "execution_count": 40
        }
      ]
    },
    {
      "cell_type": "markdown",
      "source": [
        "!pip install scikit-plot"
      ],
      "metadata": {
        "id": "y2ZL-M3q2-0Z"
      }
    },
    {
      "cell_type": "code",
      "source": [
        "import scikitplot as skplt"
      ],
      "metadata": {
        "id": "poKSvjkg2JHm"
      },
      "execution_count": null,
      "outputs": []
    },
    {
      "cell_type": "code",
      "source": [
        "skplt.estimators.plot_feature_importances(model, feature_names=diabetes.feature_names, figsize=(9, 5))\n",
        "plt.show()"
      ],
      "metadata": {
        "colab": {
          "base_uri": "https://localhost:8080/",
          "height": 336
        },
        "id": "jSpv7UPK20p4",
        "outputId": "296fe0aa-fab7-4aef-d00b-f6d5d035f82c"
      },
      "execution_count": null,
      "outputs": [
        {
          "output_type": "display_data",
          "data": {
            "text/plain": [
              "<Figure size 648x360 with 1 Axes>"
            ],
            "image/png": "[encoded data removed]"
          },
          "metadata": {
            "needs_background": "light"
          }
        }
      ]
    },
    {
      "cell_type": "code",
      "source": [
        "from sklearn.gaussian_process import GaussianProcessRegressor\n",
        "from sklearn.gaussian_process.kernels import DotProduct, WhiteKernel\n",
        "\n",
        "kernel = DotProduct() + WhiteKernel()\n",
        "gpr = GaussianProcessRegressor(kernel=kernel, random_state=42).fit(X_train, y_train)\n",
        "preds = gpr.predict(X_test)\n",
        "r2_score(y_test, preds)"
      ],
      "metadata": {
        "colab": {
          "base_uri": "https://localhost:8080/"
        },
        "id": "upiPkuBY3ReC",
        "outputId": "ae7e8d18-2d66-4c34-99b1-fe3e459ec879"
      },
      "execution_count": null,
      "outputs": [
        {
          "output_type": "execute_result",
          "data": {
            "text/plain": [
              "-0.01121456414558053"
            ]
          },
          "metadata": {},
          "execution_count": 46
        }
      ]
    },
    {
      "cell_type": "code",
      "source": [
        "from sklearn.naive_bayes import GaussianNB\n",
        "\n",
        "model = GaussianNB()\n",
        "model.fit(X_train, y_train)\n",
        "preds = model.predict(X_test)\n",
        "r2_score(y_test, preds)"
      ],
      "metadata": {
        "colab": {
          "base_uri": "https://localhost:8080/"
        },
        "id": "g_FSfSch5c4B",
        "outputId": "e705a38b-97d6-4e34-9297-9d8c1894ffda"
      },
      "execution_count": null,
      "outputs": [
        {
          "output_type": "execute_result",
          "data": {
            "text/plain": [
              "0.0528242419101258"
            ]
          },
          "metadata": {},
          "execution_count": 56
        }
      ]
    },
    {
      "cell_type": "code",
      "source": [
        "from sklearn.naive_bayes import BernoulliNB\n",
        "\n",
        "model = BernoulliNB()\n",
        "model.fit(X_train, y_train)\n",
        "preds = model.predict(X_test)\n",
        "r2_score(y_test, preds)"
      ],
      "metadata": {
        "colab": {
          "base_uri": "https://localhost:8080/"
        },
        "id": "cDT_qpGp4Rk0",
        "outputId": "4a61b447-cc79-4482-a225-0bfa18da7564"
      },
      "execution_count": null,
      "outputs": [
        {
          "output_type": "execute_result",
          "data": {
            "text/plain": [
              "-0.06698433947328675"
            ]
          },
          "metadata": {},
          "execution_count": 55
        }
      ]
    },
    {
      "cell_type": "markdown",
      "source": [
        "# Combining all the information to reduce the work"
      ],
      "metadata": {
        "id": "WftHW37cI60e"
      }
    },
    {
      "cell_type": "code",
      "source": [
        "model_dictionary = {\n",
        "    'Linear Regression':LinearRegression(),\n",
        "    'Logistic Regression': LogisticRegression(random_state=42),\n",
        "    'Gaussian Naive Bayes': GaussianNB(),\n",
        "    'Bernoulli Naive Bayes': BernoulliNB(),\n",
        "    'Random Forest': RandomForestRegressor(),\n",
        "    'Support Vector Regressor': SVR(),\n",
        "    'Stochastic Gradient Descent': SGDRegressor(loss='squared_error', max_iter=10000, random_state=42),\n",
        "    'Ridge': Ridge(alpha=0.5, solver='sag', random_state=42)\n",
        "}"
      ],
      "metadata": {
        "id": "dwPmRv5D4_sX"
      },
      "execution_count": null,
      "outputs": []
    },
    {
      "cell_type": "code",
      "source": [
        "from sklearn.metrics import mean_squared_error\n",
        "\n",
        "def generate_scores(X, y, model_dictionary):\n",
        "  '''\n",
        "  A function to evaluate various models on basis of their Mean Squared Error!\n",
        "  '''\n",
        "  mse_scores = {}\n",
        "  X_train, X_test, y_train, y_test = train_test_split(X, y, test_size=0.2, random_state=42)\n",
        "  for key, value in model_dictionary.items():\n",
        "    model = value\n",
        "    model.fit(X_train, y_train)\n",
        "    y_preds = model.predict(X_test)\n",
        "    mse_scores[key] = mean_squared_error(y_test, y_preds)\n",
        "\n",
        "  return mse_scores"
      ],
      "metadata": {
        "id": "F-MFyLg_GsB-"
      },
      "execution_count": null,
      "outputs": []
    },
    {
      "cell_type": "code",
      "source": [
        "scores = generate_scores(X, y, model_dictionary)"
      ],
      "metadata": {
        "id": "Egip_7nYHbVq"
      },
      "execution_count": null,
      "outputs": []
    },
    {
      "cell_type": "code",
      "source": [
        "min(scores, key=scores.get)"
      ],
      "metadata": {
        "colab": {
          "base_uri": "https://localhost:8080/",
          "height": 36
        },
        "id": "aj9ie1bsIFjP",
        "outputId": "e76e3f68-7d8c-4efc-a0ee-7e67e8cd67e9"
      },
      "execution_count": null,
      "outputs": [
        {
          "output_type": "execute_result",
          "data": {
            "text/plain": [
              "'Stochastic Gradient Descent'"
            ],
            "application/vnd.google.colaboratory.intrinsic+json": {
              "type": "string"
            }
          },
          "metadata": {},
          "execution_count": 73
        }
      ]
    },
    {
      "cell_type": "markdown",
      "source": [
        "# Hyperparameter tuning!"
      ],
      "metadata": {
        "id": "tMfRNuzeJpkP"
      }
    },
    {
      "cell_type": "code",
      "source": [
        "loss = ['squared_error', 'huber', 'epsilon_insensitive','squared_epsilon_insensitive']\n",
        "penalty = ['l1', 'l2', 'elasticnet'] \n",
        "alpha = [0.0001, 0.001, 0.01, 0.1, 1, 10, 100, 1000] \n",
        "learning_rate = ['constant', 'optimal', 'invscaling', 'adaptive']  \n",
        "eta0 = [0.001, 0.01, 0.1, 1, 10, 100, 1000] \n",
        "\n",
        "param_distributions = dict(\n",
        "    loss=loss,\n",
        "    penalty=penalty, \n",
        "    alpha=alpha, \n",
        "    learning_rate=learning_rate,\n",
        "    eta0=eta0) "
      ],
      "metadata": {
        "id": "daiu8VAoIyK7"
      },
      "execution_count": null,
      "outputs": []
    },
    {
      "cell_type": "code",
      "source": [
        "param_distributions"
      ],
      "metadata": {
        "colab": {
          "base_uri": "https://localhost:8080/"
        },
        "id": "eeS1KFBvJsWu",
        "outputId": "1fc68a2b-4cfa-4d60-da24-951d0b1497cf"
      },
      "execution_count": null,
      "outputs": [
        {
          "output_type": "execute_result",
          "data": {
            "text/plain": [
              "{'loss': ['squared_error',\n",
              "  'huber',\n",
              "  'epsilon_insensitive',\n",
              "  'squared_epsilon_insensitive'],\n",
              " 'penalty': ['l1', 'l2', 'elasticnet'],\n",
              " 'alpha': [0.0001, 0.001, 0.01, 0.1, 1, 10, 100, 1000],\n",
              " 'learning_rate': ['constant', 'optimal', 'invscaling', 'adaptive'],\n",
              " 'eta0': [0.001, 0.01, 0.1, 1, 10, 100, 1000]}"
            ]
          },
          "metadata": {},
          "execution_count": 92
        }
      ]
    },
    {
      "cell_type": "code",
      "source": [
        "from sklearn.model_selection import RandomizedSearchCV\n",
        "\n",
        "sgd = SGDRegressor(max_iter=150000, random_state=42)\n",
        "\n",
        "random = RandomizedSearchCV(estimator=sgd, param_distributions=param_distributions, random_state=42, n_iter=10)\n",
        "\n",
        "random_result = random.fit(X_train, y_train) \n",
        "\n",
        "print('Best Score: ', random_result.best_score_) # r2_score by default\n",
        "print('Best Params: ', random_result.best_params_) "
      ],
      "metadata": {
        "colab": {
          "base_uri": "https://localhost:8080/"
        },
        "id": "wZdoKGlRJ1DV",
        "outputId": "11fd3a8d-d665-4a63-cb76-1c7961fc93ce"
      },
      "execution_count": null,
      "outputs": [
        {
          "output_type": "stream",
          "name": "stdout",
          "text": [
            "Best Score:  0.4509827668798458\n",
            "Best Params:  {'penalty': 'l1', 'loss': 'epsilon_insensitive', 'learning_rate': 'adaptive', 'eta0': 1000, 'alpha': 0.0001}\n"
          ]
        }
      ]
    },
    {
      "cell_type": "code",
      "source": [
        "alpha = [0.00001, 0.0001, 0.001, 0.01, 0.1] \n",
        "learning_rate = ['constant', 'optimal', 'invscaling', 'adaptive']  \n",
        "eta0 = [10, 100, 1000, 10000] \n",
        "\n",
        "param_distributions = dict(\n",
        "    alpha=alpha, \n",
        "    learning_rate=learning_rate,\n",
        "    eta0=eta0) "
      ],
      "metadata": {
        "id": "pEZ8wk4FQhr4"
      },
      "execution_count": null,
      "outputs": []
    },
    {
      "cell_type": "code",
      "source": [
        "from sklearn.model_selection import GridSearchCV\n",
        "\n",
        "sgd = SGDRegressor(loss='epsilon_insensitive', max_iter=1000000, random_state=42)\n",
        "\n",
        "grid = GridSearchCV(sgd, param_distributions)\n",
        "grid.fit(X_train, y_train)\n",
        "\n",
        "print('Best Score: ', grid.best_score_) # r2_score by default\n",
        "print('Best Params: ', grid.best_params_) "
      ],
      "metadata": {
        "colab": {
          "base_uri": "https://localhost:8080/"
        },
        "id": "Ou_9gUQCKy02",
        "outputId": "7448e263-21a7-48c9-cee1-f9612db1e2d3"
      },
      "execution_count": null,
      "outputs": [
        {
          "output_type": "stream",
          "name": "stdout",
          "text": [
            "Best Score:  0.45978951989172767\n",
            "Best Params:  {'alpha': 1e-05, 'eta0': 100, 'learning_rate': 'adaptive'}\n"
          ]
        }
      ]
    },
    {
      "cell_type": "markdown",
      "source": [
        "The only difference between both the approaches is in grid search we define the combinations and do training of the model whereas in RandomizedSearchCV the model selects the combinations randomly. Both are very effective ways of tuning the parameters that increase the model generalizability"
      ],
      "metadata": {
        "id": "3wMMo7HfOq8S"
      }
    },
    {
      "cell_type": "markdown",
      "source": [
        "# Additional topics for knowledge \n",
        "\n",
        "* OneHotEncoder - https://scikit-learn.org/stable/modules/generated/sklearn.preprocessing.OneHotEncoder.html\n",
        "* LabelEncoder - https://scikit-learn.org/stable/modules/generated/sklearn.preprocessing.LabelEncoder.html\n",
        "* Confusion Matrix - https://scikit-learn.org/stable/modules/generated/sklearn.metrics.confusion_matrix.html\n",
        "* Classification Report - https://scikit-learn.org/stable/modules/generated/sklearn.metrics.classification_report.html"
      ],
      "metadata": {
        "id": "5s-BQoOsausG"
      }
    },
    {
      "cell_type": "code",
      "source": [
        "# Practice Question"
      ],
      "metadata": {
        "id": "c7u2swqLOVuc"
      },
      "execution_count": null,
      "outputs": []
    },
    {
      "cell_type": "markdown",
      "source": [
        "## Kaggle dataset for practice - \n",
        "\n",
        "https://www.kaggle.com/datasets/thedevastator/cancer-patients-and-air-pollution-a-new-link"
      ],
      "metadata": {
        "id": "F_Go2ADBGlU2"
      }
    },
    {
      "cell_type": "markdown",
      "source": [
        "## Solution - \n",
        "\n",
        "https://www.kaggle.com/ayushb6732/lungs-dataset-gdsc"
      ],
      "metadata": {
        "id": "pcwgfGTyOQt7"
      }
    },
    {
      "cell_type": "code",
      "source": [],
      "metadata": {
        "id": "9EYgG5xVOSpk"
      },
      "execution_count": null,
      "outputs": []
    }
  ]
}